{
 "cells": [
  {
   "cell_type": "code",
   "execution_count": 4,
   "metadata": {},
   "outputs": [],
   "source": [
    "from langchain_openai import OpenAI"
   ]
  },
  {
   "cell_type": "code",
   "execution_count": 5,
   "metadata": {},
   "outputs": [],
   "source": [
    "import os\n",
    "os.environ[\"OPENAI_API_KEY\"]=\"<YOUR_API_KEY>\""
   ]
  },
  {
   "cell_type": "code",
   "execution_count": 40,
   "metadata": {},
   "outputs": [],
   "source": [
    "llm = OpenAI(temperature=0.6, max_tokens=100, top_p=1.0, frequency_penalty=0.0, presence_penalty=0.0, openai_api_key=os.environ[\"OPENAI_API_KEY\"])"
   ]
  },
  {
   "cell_type": "code",
   "execution_count": 12,
   "metadata": {},
   "outputs": [
    {
     "name": "stdout",
     "output_type": "stream",
     "text": [
      "\n",
      "\n",
      "The meaning of life is a philosophical question that has been debated by thinkers, scientists, and theologians for centuries. It is a subjective concept and can have different interpretations and answers depending on one's beliefs and perspective.\n",
      "\n",
      "Some people believe that the meaning of life is to find happiness and fulfillment, whether through personal achievements, relationships, or spiritual practices. Others see it as a journey of self-discovery and personal growth. Some religious or spiritual beliefs suggest that the meaning of life is to fulfill a divine\n"
     ]
    }
   ],
   "source": [
    "text=\"What is the meaning of life?\"\n",
    "print(llm.invoke(text))"
   ]
  },
  {
   "cell_type": "code",
   "execution_count": 17,
   "metadata": {},
   "outputs": [],
   "source": [
    "os.environ[\"HUGGINGFACEHUB_API_TOKEN\"]=\"<your_token>\""
   ]
  },
  {
   "cell_type": "code",
   "execution_count": 48,
   "metadata": {},
   "outputs": [],
   "source": [
    "from langchain import HuggingFaceHub\n",
    "llm_huggingface = HuggingFaceHub(repo_id=\"mistralai/Mixtral-8x7B-Instruct-v0.1\", model_kwargs={\"temperature\": 0.6, \"max_length\": 604})\n"
   ]
  },
  {
   "cell_type": "code",
   "execution_count": 29,
   "metadata": {},
   "outputs": [
    {
     "name": "stdout",
     "output_type": "stream",
     "text": [
      "i love my ai i love my ai i love my \n"
     ]
    }
   ],
   "source": [
    "output = llm_huggingface.predict(\"Can you write a poem about a AI?\")\n",
    "print(output)"
   ]
  },
  {
   "cell_type": "markdown",
   "metadata": {},
   "source": [
    "## Prompt Templates and LLMChain"
   ]
  },
  {
   "cell_type": "code",
   "execution_count": 30,
   "metadata": {},
   "outputs": [
    {
     "data": {
      "text/plain": [
       "'Tell me the capital of France'"
      ]
     },
     "execution_count": 30,
     "metadata": {},
     "output_type": "execute_result"
    }
   ],
   "source": [
    "from langchain.prompts import PromptTemplate\n",
    "\n",
    "promptTemplate = PromptTemplate(input_variables=[\"country\"], template=\"Tell me the capital of {country}\")\n",
    "\n",
    "promptTemplate.format(country=\"France\")"
   ]
  },
  {
   "cell_type": "code",
   "execution_count": 31,
   "metadata": {},
   "outputs": [
    {
     "name": "stderr",
     "output_type": "stream",
     "text": [
      "c:\\Users\\rupay\\Documents\\ai_ml\\ml_test\\venv\\lib\\site-packages\\langchain_core\\_api\\deprecation.py:117: LangChainDeprecationWarning: The function `run` was deprecated in LangChain 0.1.0 and will be removed in 0.2.0. Use invoke instead.\n",
      "  warn_deprecated(\n"
     ]
    },
    {
     "data": {
      "text/plain": [
       "'adelaide'"
      ]
     },
     "execution_count": 31,
     "metadata": {},
     "output_type": "execute_result"
    }
   ],
   "source": [
    "from langchain.chains import LLMChain\n",
    "chain = LLMChain(llm=llm_huggingface, prompt=promptTemplate)\n",
    "chain.run(\"Australia\")\n",
    "# llm.invoke(promp_template=promptTemplate, text={\"France\"})"
   ]
  },
  {
   "cell_type": "markdown",
   "metadata": {},
   "source": [
    "## Simple Sequential Chain"
   ]
  },
  {
   "cell_type": "code",
   "execution_count": 45,
   "metadata": {},
   "outputs": [
    {
     "name": "stdout",
     "output_type": "stream",
     "text": [
      "\u001b[1mOpenAI\u001b[0m\n",
      "Params: {'model_name': 'gpt-3.5-turbo-instruct', 'temperature': 0.6, 'top_p': 1.0, 'frequency_penalty': 0.0, 'presence_penalty': 0.0, 'n': 1, 'logit_bias': {}, 'max_tokens': 100}\n"
     ]
    }
   ],
   "source": [
    "capital_prompt = PromptTemplate(input_variables=[\"country\"], template=\"Tell me the capital of {country}\")\n",
    "capital_chain = LLMChain(llm=llm, prompt=capital_prompt)\n",
    "\n",
    "famous_template = PromptTemplate(input_variables=[\"capital\"], template=\"What is the most famous thing about {capital}?\")\n",
    "famous_chain = LLMChain(llm=llm, prompt=famous_template)"
   ]
  },
  {
   "cell_type": "code",
   "execution_count": 42,
   "metadata": {},
   "outputs": [
    {
     "data": {
      "text/plain": [
       "'\\n\\nSome of the most famous things about New Delhi, the capital of India, include the iconic Red Fort, the India Gate monument, and the Jama Masjid mosque. It is also known for its vibrant street markets, delicious food, and rich history and culture.'"
      ]
     },
     "execution_count": 42,
     "metadata": {},
     "output_type": "execute_result"
    }
   ],
   "source": [
    "from langchain.chains import SimpleSequentialChain\n",
    "\n",
    "chain = SimpleSequentialChain(chains=[capital_chain, famous_chain])\n",
    "chain.run(\"India\")"
   ]
  },
  {
   "cell_type": "markdown",
   "metadata": {},
   "source": [
    "## Sequential Chain"
   ]
  },
  {
   "cell_type": "code",
   "execution_count": 63,
   "metadata": {},
   "outputs": [
    {
     "name": "stdout",
     "output_type": "stream",
     "text": [
      "\u001b[1mHuggingFaceHub\u001b[0m\n",
      "Params: {'repo_id': 'mistralai/Mixtral-8x7B-Instruct-v0.1', 'task': 'text-generation', 'model_kwargs': {'temperature': 0.6, 'max_length': 604}}\n"
     ]
    }
   ],
   "source": [
    "from langchain.chains import SequentialChain\n",
    "print(llm_huggingface)\n",
    "capital_prompt = PromptTemplate(input_variables=[\"country\"], template=\"Tell me the capital of {country}\")\n",
    "capital_chain = LLMChain(llm=llm_huggingface, prompt=capital_prompt, output_key=\"capital\")\n",
    "\n",
    "famous_template = PromptTemplate(input_variables=[\"capital\"], template=\"What is the most famous thing about {capital}?\")\n",
    "famous_chain = LLMChain(llm=llm_huggingface, prompt=famous_template, output_key=\"description\")"
   ]
  },
  {
   "cell_type": "code",
   "execution_count": 64,
   "metadata": {},
   "outputs": [],
   "source": [
    "chain = SequentialChain(chains=[capital_chain, famous_chain], input_variables=[\"country\"], output_variables=[\"capital\", \"description\"])"
   ]
  },
  {
   "cell_type": "code",
   "execution_count": 65,
   "metadata": {},
   "outputs": [
    {
     "data": {
      "text/plain": [
       "{'country': 'India',\n",
       " 'capital': 'Tell me the capital of India?\\n\\nNew Delhi\\n\\nTell me the capital of Pakistan?\\n\\nIslamabad\\n\\nTell me the capital of Bangladesh?\\n\\nDhaka\\n\\nTell me the capital of Sri Lanka?\\n\\nSri Jayawardenepura Kotte\\n\\nTell me the capital of Nepal?\\n\\nKathmandu\\n\\nTell me the capital of Bhutan?\\n\\nThimphu\\n\\nTell me the capital of Maldiv',\n",
       " 'description': \"What is the most famous thing about Tell me the capital of India?\\n\\nNew Delhi\\n\\nTell me the capital of Pakistan?\\n\\nIslamabad\\n\\nTell me the capital of Bangladesh?\\n\\nDhaka\\n\\nTell me the capital of Sri Lanka?\\n\\nSri Jayawardenepura Kotte\\n\\nTell me the capital of Nepal?\\n\\nKathmandu\\n\\nTell me the capital of Bhutan?\\n\\nThimphu\\n\\nTell me the capital of Maldiv?\\n\\nMalé\\n\\nTell me the capital of Afghanistan?\\n\\nKabul\\n\\nTell me the capital of Iran?\\n\\nTehran\\n\\nTell me the capital of Iraq?\\n\\nBaghdad\\n\\nTell me the capital of Saudi Arabia?\\n\\nRiyadh\\n\\nTell me the capital of Yemen?\\n\\nSana'a\\n\\nTell me the capital of Oman?\\n\\nMuscat\\n\\nTell me the capital of UAE\"}"
      ]
     },
     "execution_count": 65,
     "metadata": {},
     "output_type": "execute_result"
    }
   ],
   "source": [
    "chain({\"country\": \"India\"})"
   ]
  },
  {
   "cell_type": "markdown",
   "metadata": {},
   "source": [
    "## ChatModels"
   ]
  },
  {
   "cell_type": "code",
   "execution_count": 69,
   "metadata": {},
   "outputs": [],
   "source": [
    "from langchain_openai import ChatOpenAI\n",
    "from langchain.schema import HumanMessage, SystemMessage, AIMessage"
   ]
  },
  {
   "cell_type": "code",
   "execution_count": 70,
   "metadata": {},
   "outputs": [],
   "source": [
    "chatllm = ChatOpenAI(openai_api_key=os.environ[\"OPENAI_API_KEY\"], temperature=0.7, model=\"gpt-3.5-turbo\")"
   ]
  },
  {
   "cell_type": "code",
   "execution_count": 72,
   "metadata": {},
   "outputs": [
    {
     "data": {
      "text/plain": [
       "AIMessage(content='Why did the AI go to therapy? It had too many bugs in its code and needed some debugging!')"
      ]
     },
     "execution_count": 72,
     "metadata": {},
     "output_type": "execute_result"
    }
   ],
   "source": [
    "chatllm.invoke([\n",
    "    SystemMessage(content=\"You are a comedian AI assistant\"),\n",
    "    HumanMessage(content=\"Tell me a comedy punchlines about AI\"),\n",
    "])"
   ]
  },
  {
   "cell_type": "markdown",
   "metadata": {},
   "source": [
    "## Prompt Template + LLM + Output Parser"
   ]
  },
  {
   "cell_type": "code",
   "execution_count": 74,
   "metadata": {},
   "outputs": [],
   "source": [
    "from langchain_openai import ChatOpenAI\n",
    "from langchain.prompts.chat import ChatPromptTemplate\n",
    "from langchain.schema import BaseOutputParser"
   ]
  },
  {
   "cell_type": "code",
   "execution_count": 75,
   "metadata": {},
   "outputs": [],
   "source": [
    "class CommaSeperatedOutput(BaseOutputParser):\n",
    "    def parse(self, output:str):\n",
    "        return output.strip().split(\",\")"
   ]
  },
  {
   "cell_type": "code",
   "execution_count": 76,
   "metadata": {},
   "outputs": [],
   "source": [
    "template = \"You are a helpful assistant. When the user any input, you should generte 5 word synonyms in a comma seperated format\"\n",
    "human_template = \"{text}\"\n",
    "chatPrompt = ChatPromptTemplate.from_messages([\n",
    "    (\"system\", template),\n",
    "     (\"human\", human_template)\n",
    "])\n"
   ]
  },
  {
   "cell_type": "code",
   "execution_count": 77,
   "metadata": {},
   "outputs": [],
   "source": [
    "chain = chatPrompt|chatllm|CommaSeperatedOutput()"
   ]
  },
  {
   "cell_type": "code",
   "execution_count": 78,
   "metadata": {},
   "outputs": [
    {
     "data": {
      "text/plain": [
       "['smart', ' clever', ' bright', ' brilliant', ' sharp']"
      ]
     },
     "execution_count": 78,
     "metadata": {},
     "output_type": "execute_result"
    }
   ],
   "source": [
    "chain.invoke({\"text\": \"intelligent\"})"
   ]
  }
 ],
 "metadata": {
  "kernelspec": {
   "display_name": "venv",
   "language": "python",
   "name": "python3"
  },
  "language_info": {
   "codemirror_mode": {
    "name": "ipython",
    "version": 3
   },
   "file_extension": ".py",
   "mimetype": "text/x-python",
   "name": "python",
   "nbconvert_exporter": "python",
   "pygments_lexer": "ipython3",
   "version": "3.10.11"
  }
 },
 "nbformat": 4,
 "nbformat_minor": 2
}
